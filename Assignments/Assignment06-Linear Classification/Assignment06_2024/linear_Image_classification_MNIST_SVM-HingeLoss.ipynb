{
  "cells": [
    {
      "cell_type": "markdown",
      "metadata": {
        "id": "view-in-github",
        "colab_type": "text"
      },
      "source": [
        "<a href=\"https://colab.research.google.com/github/vivek26-1998/Customer-churn-prediction/blob/main/Assignments/Assignment06-Linear%20Classification/Assignment06_2024/linear_Image_classification_MNIST_SVM-HingeLoss.ipynb\" target=\"_parent\"><img src=\"https://colab.research.google.com/assets/colab-badge.svg\" alt=\"Open In Colab\"/></a>"
      ]
    },
    {
      "cell_type": "markdown",
      "metadata": {
        "id": "VMhLnETNAMbd"
      },
      "source": [
        "[<img align=\"right\" width=\"400\" height=\"400\" src=\"https://github.com/ML-IGP-TUBS-2024/Keerthiveettil-Vivek/blob/master/Assignments/Assignment06-Linear%20Classification/Assignment06_2024/assets/TUBS_IGP_logo.jpg?raw=1\">](https://www.tu-braunschweig.de/en/)\n",
        "\n",
        "[Mehdi Maboudi](https://www.tu-braunschweig.de/en/igp/staff/mehdi-maboudi) ([m.maboudi@tu-bs.de](m.maboudi@tu-bs.de))\n",
        "\n",
        "[Technical University of Braunschweig](https://www.tu-braunschweig.de/en/)  \n",
        "[Institute of Geodesy and Photogrammetry](https://www.tu-braunschweig.de/igp)  \n",
        "\n",
        "\n",
        "The general structure of this notebook is a combination of : Jake VanderPlas notebooks,Aurélien Geron notebooks, CS231n notebooks, and Sebastian Raschka's lectures\n",
        "\n",
        "\n",
        "**Multi-class linear classification exercise**  \n",
        "Complete and hand in this worksheet (including its outputs and any supporting code outside of the worksheet) with your assignment submission."
      ]
    },
    {
      "cell_type": "markdown",
      "metadata": {
        "id": "rfF2nedCTubd"
      },
      "source": [
        "In this exercise you will:\n",
        "- get familiar with [**MNIST**](http://yann.lecun.com/exdb/mnist/) dataset\n",
        "- implement a fully-vectorized loss function for the **Linear SVM**\n",
        "- implement the fully-vectorized expression for its analytic gradient\n",
        "- check your implementation using *numerical gradient*\n",
        "- use a validation set to *tune the learning hyperparameters* (learning rate and regularization strength)\n",
        "- optimize the loss function with BGD\n",
        "- visualize the final learned weights\n",
        "- visualize the misclassifications\n",
        "- top-k in classification performance\n",
        "- feature manupulation"
      ]
    },
    {
      "cell_type": "markdown",
      "metadata": {
        "id": "NmUGSBcTTube"
      },
      "source": [
        "# Setup"
      ]
    },
    {
      "cell_type": "code",
      "execution_count": null,
      "metadata": {
        "id": "4yKs56MH_uBm"
      },
      "outputs": [],
      "source": [
        "# Run some setup code for this notebook.\n",
        "import numpy as np\n",
        "import matplotlib.pyplot as plt\n",
        "\n",
        "\n",
        "# Some more magic so that the notebook will reload external python modules;\n",
        "# see http://stackoverflow.com/questions/1907993/autoreload-of-modules-in-ipython\n",
        "%load_ext autoreload\n",
        "%autoreload 2\n",
        "\n",
        "\n",
        "%matplotlib inline\n",
        "plt.rcParams['figure.figsize'] = (10.0, 8.0) # set default size of plots\n",
        "plt.rcParams['image.interpolation'] = 'nearest'\n",
        "plt.rcParams['image.cmap'] = 'gray'\n",
        "\n",
        "seed = 57\n",
        "np.random.seed(seed)"
      ]
    },
    {
      "cell_type": "code",
      "execution_count": null,
      "metadata": {
        "id": "osz2Yzj0A9kK"
      },
      "outputs": [],
      "source": [
        "# Cleaning up variables to prevent loading data multiple times (which may cause memory issue)\n",
        "try:\n",
        "    del X_train, y_train\n",
        "    del X_test, y_test\n",
        "    print('Clear previously loaded data.')\n",
        "except:\n",
        "    pass"
      ]
    },
    {
      "cell_type": "markdown",
      "metadata": {
        "id": "_4CXbmB8Tubg"
      },
      "source": [
        "# Dataset"
      ]
    },
    {
      "cell_type": "markdown",
      "metadata": {
        "id": "7AUyqZguTubg"
      },
      "source": [
        "Some notes about **[MNIST dataset]((http://yann.lecun.com/exdb/mnist/))**:\n",
        "\n",
        "- MNIST dataset contains 70,000 handwritten digits.  \n",
        "- Members of the AI/ML/Data Science community love this dataset and use it as a benchmark to validate their algorithms.  \n",
        "In fact, MNIST is often the first dataset researchers try.  \n",
        "**\"If it doesn't work on MNIST, it won't work at all\"** they said.    \n",
        "Well, if it does work on MNIST, it may still fail on others.\""
      ]
    },
    {
      "cell_type": "markdown",
      "metadata": {
        "id": "7tXSjmJgAihC"
      },
      "source": [
        "## Loading MNIST dataset"
      ]
    },
    {
      "cell_type": "code",
      "execution_count": null,
      "metadata": {
        "id": "x06MOOJyTubh",
        "outputId": "53585a6a-a0a2-4b88-beaf-9a7368ca549b"
      },
      "outputs": [
        {
          "name": "stdout",
          "output_type": "stream",
          "text": [
            "loading MNISt data from: TUBS_1120019/datasets/MNIST_784   finished.\n"
          ]
        }
      ],
      "source": [
        "from os.path  import join\n",
        "from TUBS_1120019.data_utils import load_MNIST\n",
        "\n",
        "data_dir = 'TUBS_1120019/datasets/MNIST_784'\n",
        "\n",
        "X_train, X_test, y_train, y_test = load_MNIST(data_dir)\n",
        ""
      ]
    },
    {
      "cell_type": "code",
      "execution_count": null,
      "metadata": {
        "id": "bdAccHd7Tubj",
        "outputId": "992ec56e-5f55-44cd-f6af-6944a8344ec4"
      },
      "outputs": [
        {
          "name": "stdout",
          "output_type": "stream",
          "text": [
            "Training data shape:  (60000, 28, 28) float64\n",
            "Training labels shape:  (60000,) uint8\n",
            "Test data shape:  (10000, 28, 28) float64\n",
            "Test labels shape:  (10000,) uint8\n"
          ]
        }
      ],
      "source": [
        "# As a sanity check of loading the dataset, we print out the size of the training and test data.\n",
        "print('Training data shape: ', X_train.shape,X_train.dtype)\n",
        "print('Training labels shape: ', y_train.shape,y_train.dtype)\n",
        "print('Test data shape: ', X_test.shape,X_test.dtype)\n",
        "print('Test labels shape: ', y_test.shape,y_test.dtype)"
      ]
    },
    {
      "cell_type": "code",
      "execution_count": null,
      "metadata": {
        "id": "0TKxX_ViTubk",
        "outputId": "e2a398b0-2d86-44c7-e04d-cdc81a950175"
      },
      "outputs": [
        {
          "name": "stdout",
          "output_type": "stream",
          "text": [
            "Number of classes = 10\n"
          ]
        }
      ],
      "source": [
        "K = np.max(y_train)+1 # Number of classes\n",
        "print(f\"Number of classes = {K}\")"
      ]
    },
    {
      "cell_type": "markdown",
      "metadata": {
        "id": "AOXnpePGDB1W"
      },
      "source": [
        "## Visualize the dataset"
      ]
    },
    {
      "cell_type": "code",
      "execution_count": null,
      "metadata": {
        "id": "3bMb7bM1Tubl",
        "outputId": "2ba71b67-4d0d-466b-a32c-db0265caf7c1"
      },
      "outputs": [
        {
          "data": {
            "image/png": "[encoded data removed]",
            "text/plain": [
              "<Figure size 1000x800 with 50 Axes>"
            ]
          },
          "metadata": {},
          "output_type": "display_data"
        }
      ],
      "source": [
        "# Visualize some samples from the dataset.\n",
        "# We show a few random samples of training images from each class.\n",
        "num_classes = K\n",
        "samples_per_class = 5\n",
        "for y in range(K):\n",
        "    idxs = np.flatnonzero(y_train == y)\n",
        "    idxs = np.random.choice(idxs, samples_per_class, replace=False)\n",
        "    for i, idx in enumerate(idxs):\n",
        "        plt_idx = i * num_classes + y + 1\n",
        "        plt.subplot(samples_per_class, num_classes, plt_idx)\n",
        "        plt.imshow(X_train[idx].astype('uint8'))\n",
        "        plt.axis('off')\n",
        "        if i == 0:\n",
        "            plt.title(y)\n",
        "plt.show()"
      ]
    },
    {
      "cell_type": "markdown",
      "metadata": {
        "id": "WaW6jsxXTubl"
      },
      "source": [
        "## Data preparation and preprocessing"
      ]
    },
    {
      "cell_type": "markdown",
      "metadata": {
        "id": "749ea2D1Tubm"
      },
      "source": [
        "We will use trainSet(X_train,y_train) for our implementation.  \n",
        "<font color='black'>The testSet(X_test,y_test) should be held out for final evaluation</font>\n",
        "\n",
        "But for hyperparameter tuning we need another set.  \n",
        "So, after splitting our dataset into trainSet and testSet,  \n",
        "we will further split the trainSet to two sets for training and validation\n",
        "\n",
        "Scikitlearn has a function for this:\n",
        "[sklearn.model_selection.train_test_split](https://scikit-learn.org/stable/modules/generated/sklearn.model_selection.train_test_split.html)  \n",
        "But, in this assignment you should use your own function using numpy and plain python\n",
        "\n",
        "\n",
        "**Note: Use a small subset of data for development**   \n",
        "   \n",
        "You can use small subset(e.g. 10%) of data for development to do and check your implementation faster.  \n",
        "When everything works, you can use the full dataset.  "
      ]
    },
    {
      "cell_type": "markdown",
      "metadata": {
        "id": "drB7eIn6Tubm"
      },
      "source": [
        "### Split the training data into train, and validation set"
      ]
    },
    {
      "cell_type": "markdown",
      "metadata": {
        "id": "jRnYCm3fTubm"
      },
      "source": [
        "Open `TUBS_1120019/data_utils.py` and implement the function `split_into_2_sets`  "
      ]
    },
    {
      "cell_type": "code",
      "execution_count": null,
      "metadata": {
        "id": "_KUWfl6ATubm"
      },
      "outputs": [],
      "source": [
        "from TUBS_1120019.data_utils import split_into_2_sets\n",
        "X_train, X_val, y_train, y_val   = split_into_2_sets(X_train, y_train, first_set_size=0.8,shuffle=True, random_state=seed)"
      ]
    },
    {
      "cell_type": "code",
      "execution_count": null,
      "metadata": {
        "id": "hCdD061zBiyA",
        "outputId": "c8d7dbec-5d98-4304-d848-80d12b0e735a"
      },
      "outputs": [
        {
          "name": "stdout",
          "output_type": "stream",
          "text": [
            "Training data shape:  (48000, 28, 28)\n",
            "Training labels shape:  (48000,)\n",
            "Validation data shape:  (12000, 28, 28)\n",
            "Validation labels shape:  (12000,)\n",
            "Test data shape:  (10000, 28, 28)\n",
            "Test labels shape:  (10000,)\n"
          ]
        }
      ],
      "source": [
        "# As a sanity check, we print out the size of the training, validation and test data.\n",
        "print('Training data shape: ', X_train.shape)\n",
        "print('Training labels shape: ', y_train.shape)\n",
        "\n",
        "print('Validation data shape: ', X_val.shape)\n",
        "print('Validation labels shape: ', y_val.shape)\n",
        "\n",
        "print('Test data shape: ', X_test.shape)\n",
        "print('Test labels shape: ', y_test.shape)\n"
      ]
    },
    {
      "cell_type": "code",
      "execution_count": null,
      "metadata": {
        "id": "0VmxM65fTubn",
        "outputId": "8aa38921-8b90-4666-a650-16461f82735c"
      },
      "outputs": [
        {
          "name": "stdout",
          "output_type": "stream",
          "text": [
            "Training data shape  :  (48000, 784)\n",
            "Validation data shape:  (12000, 784)\n",
            "Test data shape      :  (10000, 784)\n"
          ]
        }
      ],
      "source": [
        "# Preprocessing: reshape the image data into rows\n",
        "X_train = np.reshape(X_train, (X_train.shape[0], -1))\n",
        "X_val = np.reshape(X_val, (X_val.shape[0], -1))\n",
        "X_test = np.reshape(X_test, (X_test.shape[0], -1))\n",
        "\n",
        "# As a sanity check, print out the shapes of the data\n",
        "print('Training data shape  : ', X_train.shape)\n",
        "print('Validation data shape: ', X_val.shape)\n",
        "print('Test data shape      : ', X_test.shape)"
      ]
    },
    {
      "cell_type": "markdown",
      "metadata": {
        "id": "K_hVaEbFTubn"
      },
      "source": [
        "Before training our classifier(just doing a random guess for the labels of the sample)\n",
        "and if we have K classes, the accuracy of the results should be aruond 1/K which is 1/10 for our dataset"
      ]
    },
    {
      "cell_type": "code",
      "execution_count": null,
      "metadata": {
        "id": "7MBaxXhjTubo",
        "outputId": "a347a587-a3b7-4584-84c3-ac38d5a222ed"
      },
      "outputs": [
        {
          "name": "stdout",
          "output_type": "stream",
          "text": [
            "Accuracy of random classification:  0.1008125\n"
          ]
        }
      ],
      "source": [
        "y_train_predicted_random = np.random.randint(10,size=X_train.shape[0],dtype=int)\n",
        "print(\"Accuracy of random classification: \",np.mean(y_train_predicted_random==y_train))"
      ]
    },
    {
      "cell_type": "code",
      "execution_count": null,
      "metadata": {
        "id": "DUkafc7aTubp"
      },
      "outputs": [],
      "source": [
        "D = X_train.shape[-1]  # Number of features\n",
        "N_train = X_train.shape[0] # Number of training samples\n",
        "N_valid = X_val.shape[0] # Number of validation samples\n",
        "N_test  = X_test.shape[0] # Number of test samples\n",
        "\n",
        "\n",
        "# generate a random weight matrix of small numbers\n",
        "W=np.random.randn(D,K)*0.0001\n",
        "bias=np.ones((1,K))\n",
        "\n",
        "# bias trick\n",
        "# append the bias dimension of ones (i.e. bias trick) so that our classifier\n",
        "# only has to worry about optimizing a single weight matrix W\n",
        "W_with_biasTerm=np.vstack((bias, W)) # add bias as a column to W\n",
        "\n",
        "bias_coef = np.ones((N_train,1))\n",
        "X_train_with_biasTerm=np.hstack((bias_coef,X_train))# add a column containing ones as bias feature\n",
        "\n",
        "bias_coef = np.ones((N_valid,1))\n",
        "X_val_with_biasTerm=np.hstack((bias_coef,X_val))# add a column containing ones as bias feature\n",
        "\n",
        "bias_coef = np.ones((N_test,1))\n",
        "X_test_with_biasTerm=np.hstack((bias_coef,X_test))# add a column containing ones as bias feature"
      ]
    },
    {
      "cell_type": "code",
      "execution_count": null,
      "metadata": {
        "id": "4FvqMks8Tubp",
        "outputId": "e8f5766e-3e32-452c-d0fd-2636608c76ed"
      },
      "outputs": [
        {
          "name": "stdout",
          "output_type": "stream",
          "text": [
            "Training data shape  :  (48000, 785)\n",
            "Validation data shape:  (12000, 785)\n",
            "Test data shape      :  (10000, 785)\n"
          ]
        }
      ],
      "source": [
        "# As a sanity check, print out the shapes of the data\n",
        "print('Training data shape  : ', X_train_with_biasTerm.shape)\n",
        "print('Validation data shape: ', X_val_with_biasTerm.shape)\n",
        "print('Test data shape      : ', X_test_with_biasTerm.shape)"
      ]
    },
    {
      "cell_type": "markdown",
      "metadata": {
        "id": "Y10u_EgXI68b"
      },
      "source": [
        "# Classifier: Linear SVM"
      ]
    },
    {
      "cell_type": "markdown",
      "metadata": {
        "id": "QhtgG-rHTubp"
      },
      "source": [
        "Your code for this section will all be written inside `TUBS1120019/classifiers/`\n",
        "\n",
        "As you can see, we have prefilled the function svm_loss_naive which uses _for_ loops to evaluate the multiclass SVM loss function."
      ]
    },
    {
      "cell_type": "markdown",
      "metadata": {
        "id": "Bu3iofbQTubq"
      },
      "source": [
        "## Naive implementation of the loss"
      ]
    },
    {
      "cell_type": "code",
      "execution_count": null,
      "metadata": {
        "id": "MGbqdsyII33N",
        "outputId": "265e7d53-f345-4d3e-9629-38931f734f79"
      },
      "outputs": [
        {
          "name": "stdout",
          "output_type": "stream",
          "text": [
            "loss: 9.163203\n"
          ]
        }
      ],
      "source": [
        "# Evaluate the naive implementation of the loss we provided for you:\n",
        "from TUBS_1120019.classifiers.linear_svm import svm_loss_naive\n",
        "\n",
        "loss, grad = svm_loss_naive(W_with_biasTerm, X_train_with_biasTerm, y_train,reg=0.000005)\n",
        "print('loss: %f' % (loss, ))"
      ]
    },
    {
      "cell_type": "markdown",
      "metadata": {
        "id": "qBrm6iO_Tubr"
      },
      "source": [
        "## Naive implementation of the gradient (2pnts)"
      ]
    },
    {
      "cell_type": "markdown",
      "metadata": {
        "id": "TUtatAjAJZoy"
      },
      "source": [
        "The `grad` returned from the function above is right now all zero. Derive and implement the gradient for the SVM cost function and implement it inline inside the function `svm_loss_naive`. You will find it helpful to interleave your new code inside the existing function.\n"
      ]
    },
    {
      "cell_type": "markdown",
      "metadata": {
        "id": "Wv48A_TkJlor"
      },
      "source": [
        "## Numerical gradient check\n",
        "\n",
        "To check that you have correctly implemented the gradient correctly, you can numerically estimate the gradient of the loss function and compare the numeric estimate to the gradient that you computed. We have provided code that does this for you:"
      ]
    },
    {
      "cell_type": "code",
      "execution_count": null,
      "metadata": {
        "id": "DNYbiq2YJa2B",
        "outputId": "9f36639c-4d31-49a1-b08f-1f593525bf31"
      },
      "outputs": [
        {
          "name": "stdout",
          "output_type": "stream",
          "text": [
            "numerical:  33.25562500 ,analytic:  33.25562500, relative error: 1.245109e-12\n",
            "numerical:   1.76256250 ,analytic:   1.76256250, relative error: 3.887759e-11\n",
            "numerical:  12.91439972 ,analytic:  12.91300000, relative error: 5.419501e-05\n",
            "numerical:   0.16877083 ,analytic:   0.16877083, relative error: 3.361558e-10\n",
            "numerical:   7.86306250 ,analytic:   7.86306250, relative error: 8.343536e-12\n",
            "numerical:   0.47025000 ,analytic:   0.47025000, relative error: 2.901628e-10\n",
            "numerical: -83.20728218 ,analytic: -83.20737500, relative error: 5.577478e-07\n",
            "numerical:   0.16510417 ,analytic:   0.16510417, relative error: 8.249721e-11\n",
            "numerical:  -3.77342632 ,analytic:  -3.77281250, relative error: 8.134105e-05\n",
            "numerical:  11.40389583 ,analytic:  11.40389583, relative error: 8.061360e-12\n"
          ]
        }
      ],
      "source": [
        "# Numerically compute the gradient along several randomly chosen dimensions, and\n",
        "# compare them with your analytically computed gradient. The numbers should match\n",
        "# almost exactly along all dimensions.\n",
        "from TUBS_1120019.numerical_gradient_check import gradient_check_sparse\n",
        "\n",
        "f = lambda w: svm_loss_naive(w,X_train_with_biasTerm,y_train,reg = 0.0)\n",
        "grad_numerical = gradient_check_sparse(f,W_with_biasTerm)"
      ]
    },
    {
      "cell_type": "code",
      "execution_count": null,
      "metadata": {
        "id": "hYJ5sx55Tubs",
        "outputId": "faf9b15a-50ed-4811-9368-544d6f51af8e"
      },
      "outputs": [
        {
          "name": "stdout",
          "output_type": "stream",
          "text": [
            "numerical: -48.64776490 ,analytic: -48.65089584, relative error: 3.217864e-05\n",
            "numerical: -11.64816538 ,analytic: -11.65052083, relative error: 1.010979e-04\n",
            "numerical:   0.00066667 ,analytic:   0.00066667, relative error: 4.809940e-09\n",
            "numerical:   0.05491667 ,analytic:   0.05491667, relative error: 2.826354e-10\n",
            "numerical:   0.25683333 ,analytic:   0.25683333, relative error: 3.117065e-10\n",
            "numerical:   0.85881250 ,analytic:   0.85881250, relative error: 3.730285e-11\n",
            "numerical:   0.00000000 ,analytic:   0.00000000, relative error: 8.470820e-03\n",
            "numerical:   0.00000000 ,analytic:   0.00000000, relative error: 1.253714e-01\n",
            "numerical:  -3.83740172 ,analytic:  -3.83962500, relative error: 2.896021e-04\n",
            "numerical:  -0.00000000 ,analytic:  -0.00000000, relative error: 5.751808e-03\n"
          ]
        }
      ],
      "source": [
        "# do the gradient check once again with regularization turned on\n",
        "f = lambda w: svm_loss_naive(w,X_train_with_biasTerm,y_train,reg = 5e-6)\n",
        "grad_numerical = gradient_check_sparse(f,W_with_biasTerm)"
      ]
    },
    {
      "cell_type": "markdown",
      "metadata": {
        "id": "Fk_AehGXTubt"
      },
      "source": [
        "## Vectorized implementation of the loss (5pnts)"
      ]
    },
    {
      "cell_type": "code",
      "execution_count": null,
      "metadata": {
        "id": "iMDcvruYTubt",
        "outputId": "14f7600c-14ac-4041-8e20-4f92f5513953"
      },
      "outputs": [
        {
          "name": "stdout",
          "output_type": "stream",
          "text": [
            "Naive loss: 9.163153e+00 computed in 10.449603s\n",
            "Vectorized loss: 9.163153e+00 computed in 0.236311s\n",
            "difference: 0.000000\n"
          ]
        }
      ],
      "source": [
        "# Next implement the function svm_loss_vectorized; for now only compute the loss;\n",
        "# we will implement the gradient in a moment.\n",
        "import time\n",
        "tic = time.time()\n",
        "loss_naive, _ = svm_loss_naive(W, X_train, y_train, reg=5e-6)\n",
        "toc = time.time()\n",
        "print('Naive loss: %e computed in %fs' % (loss_naive, toc - tic))\n",
        "\n",
        "from TUBS_1120019.classifiers.linear_svm import svm_loss_vectorized\n",
        "tic = time.time()\n",
        "loss_vectorized, _ = svm_loss_vectorized(W, X_train, y_train, reg=5e-6)\n",
        "toc = time.time()\n",
        "print('Vectorized loss: %e computed in %fs' % (loss_vectorized, toc - tic))\n",
        "\n",
        "# The losses should match but your vectorized implementation should be much faster.\n",
        "print('difference: %f' % (loss_naive - loss_vectorized))"
      ]
    },
    {
      "cell_type": "markdown",
      "metadata": {
        "id": "DMDYiM41Tubt"
      },
      "source": [
        "## Vectorized implementation of the gradient (5pnts)"
      ]
    },
    {
      "cell_type": "code",
      "execution_count": null,
      "metadata": {
        "id": "OZZCS_h3Tubu",
        "outputId": "9b975016-a594-4c88-d2da-7548342273bb"
      },
      "outputs": [
        {
          "name": "stdout",
          "output_type": "stream",
          "text": [
            "Naive loss and gradient: computed in 6.018371s\n",
            "Vectorized loss and gradient: computed in 0.192275s\n",
            "difference: 2226.669142\n"
          ]
        }
      ],
      "source": [
        "# Complete the implementation of svm_loss_vectorized, and compute the gradient\n",
        "# of the loss function in a vectorized way.\n",
        "\n",
        "# The naive implementation and the vectorized implementation should match, but\n",
        "# the vectorized version should still be much faster.\n",
        "import time\n",
        "tic = time.time()\n",
        "_, grad_naive = svm_loss_naive(W, X_train, y_train, 0.000005)\n",
        "toc = time.time()\n",
        "print('Naive loss and gradient: computed in %fs' % (toc - tic))\n",
        "\n",
        "tic = time.time()\n",
        "_, grad_vectorized = svm_loss_vectorized(W, X_train, y_train, 0.000005)\n",
        "toc = time.time()\n",
        "print('Vectorized loss and gradient: computed in %fs' % (toc - tic))\n",
        "\n",
        "# The loss is a single number, so it is easy to compare the values computed\n",
        "# by the two implementations. The gradient on the other hand is a matrix, so\n",
        "# we use the Frobenius norm to compare them.\n",
        "difference = np.linalg.norm(grad_naive - grad_vectorized, ord='fro')\n",
        "print('difference: %f' % difference)"
      ]
    },
    {
      "cell_type": "markdown",
      "metadata": {
        "id": "CAzk1o8eTubu"
      },
      "source": [
        "## Mini-Batch Gradient Descent\n",
        "\n",
        "We now have the loss and its gradient. We are therefore ready to do BGD (some people consider BGD as SGD) to minimize the loss.\n",
        "Your code for this part will be written inside `.../classifiers/linear_classifier.py`."
      ]
    },
    {
      "cell_type": "markdown",
      "metadata": {
        "id": "SOPMVLvSTubu"
      },
      "source": [
        "### train (3pnts)\n",
        "Derive and implement the training part of the linear classifer inside the function \"Linear_classifier.train\"."
      ]
    },
    {
      "cell_type": "code",
      "execution_count": null,
      "metadata": {
        "id": "VkUXMCY1Tubv",
        "outputId": "28f41127-ecf3-4bfa-df76-7596d11108db"
      },
      "outputs": [
        {
          "name": "stdout",
          "output_type": "stream",
          "text": [
            "iteration     0/  200: loss 9.020054\n",
            "iteration   100/  200: loss 1.977345\n"
          ]
        }
      ],
      "source": [
        "from TUBS_1120019.classifiers import LinearSVM\n",
        "classifier = LinearSVM()\n",
        "loss_history =classifier.train(X_train_with_biasTerm, y_train,\n",
        "                               learning_rate=1e-7, reg=2.5e4,\n",
        "                               batch_size=100,num_iters=200, verbose=True)"
      ]
    },
    {
      "cell_type": "code",
      "execution_count": null,
      "metadata": {
        "id": "4SvvS0lbTubv",
        "outputId": "24e057d6-eb8f-4819-9572-e692bcf05c3e"
      },
      "outputs": [
        {
          "data": {
            "image/png": "[encoded data removed]",
            "text/plain": [
              "<Figure size 1000x800 with 1 Axes>"
            ]
          },
          "metadata": {},
          "output_type": "display_data"
        }
      ],
      "source": [
        "# A useful debugging strategy is to plot the loss as a function of iteration number:\n",
        "plt.plot(loss_history)\n",
        "plt.xlabel('Iteration number')\n",
        "plt.ylabel('Loss value')\n",
        "plt.show()"
      ]
    },
    {
      "cell_type": "markdown",
      "metadata": {
        "id": "ShsfzHVbTubw"
      },
      "source": [
        "## predict (2pnts)"
      ]
    },
    {
      "cell_type": "code",
      "execution_count": null,
      "metadata": {
        "id": "97e49SvYTubw",
        "outputId": "efef9e87-da03-4842-9904-2f5dc4ee7cc0"
      },
      "outputs": [
        {
          "name": "stdout",
          "output_type": "stream",
          "text": [
            "(48000, 785) (785, 10)\n",
            "training accuracy:  0.8599375\n"
          ]
        }
      ],
      "source": [
        "# Write the Linear_classifier.predict function and evaluate the performance on both the\n",
        "# training and validation set\n",
        "y_train_pred = classifier.predict(X_train_with_biasTerm)\n",
        "print('training accuracy: ',np.mean(y_train == y_train_pred))"
      ]
    },
    {
      "cell_type": "code",
      "execution_count": null,
      "metadata": {
        "id": "Yvr6abMBTubw",
        "outputId": "d004a68c-002e-4e39-a75b-d3a2923027f4"
      },
      "outputs": [
        {
          "name": "stdout",
          "output_type": "stream",
          "text": [
            "(12000, 785) (785, 10)\n",
            "validation accuracy: 0.863583\n"
          ]
        }
      ],
      "source": [
        "y_val_pred = classifier.predict(X_val_with_biasTerm)\n",
        "print('validation accuracy: %f' % (np.mean(y_val == y_val_pred), ))\n"
      ]
    },
    {
      "cell_type": "code",
      "execution_count": null,
      "metadata": {
        "id": "i6E-bmT9Tubw",
        "outputId": "3c998b75-31a7-4b11-a4ad-a1192dc1911d"
      },
      "outputs": [
        {
          "name": "stdout",
          "output_type": "stream",
          "text": [
            "(10000, 785) (785, 10)\n",
            "test accuracy: 0.869600\n"
          ]
        }
      ],
      "source": [
        "y_test_pred = classifier.predict(X_test_with_biasTerm)\n",
        "print('test accuracy: %f' % (np.mean(y_test == y_test_pred), ))\n"
      ]
    },
    {
      "cell_type": "markdown",
      "metadata": {
        "id": "M1rFb3auTubw"
      },
      "source": [
        "## Tuning the hyperparameters (10pnts)"
      ]
    },
    {
      "cell_type": "code",
      "execution_count": null,
      "metadata": {
        "id": "vjcaT0WbTubw",
        "outputId": "0b93d48b-47f2-40d8-ac93-20b1601625b9"
      },
      "outputs": [
        {
          "name": "stdout",
          "output_type": "stream",
          "text": [
            "(48000, 785) (785, 10)\n",
            "(12000, 785) (785, 10)\n",
            "learning rate =1.00e-06, regularization_strengths=1e-05 ==>  train accuracy=0.903, val accuracy=0.898\n",
            "(48000, 785) (785, 10)\n",
            "(12000, 785) (785, 10)\n",
            "learning rate =1.00e-06, regularization_strengths=1e-01 ==>  train accuracy=0.899, val accuracy=0.898\n",
            "(48000, 785) (785, 10)\n",
            "(12000, 785) (785, 10)\n",
            "learning rate =1.00e-06, regularization_strengths=0e+00 ==>  train accuracy=0.900, val accuracy=0.897\n",
            "(48000, 785) (785, 10)\n",
            "(12000, 785) (785, 10)\n",
            "learning rate =1.00e-06, regularization_strengths=5e+01 ==>  train accuracy=0.892, val accuracy=0.889\n",
            "(48000, 785) (785, 10)\n",
            "(12000, 785) (785, 10)\n",
            "learning rate =1.00e-01, regularization_strengths=1e-05 ==>  train accuracy=0.881, val accuracy=0.878\n",
            "(48000, 785) (785, 10)\n",
            "(12000, 785) (785, 10)\n",
            "learning rate =1.00e-01, regularization_strengths=1e-01 ==>  train accuracy=0.488, val accuracy=0.478\n",
            "(48000, 785) (785, 10)\n",
            "(12000, 785) (785, 10)\n",
            "learning rate =1.00e-01, regularization_strengths=0e+00 ==>  train accuracy=0.853, val accuracy=0.853\n"
          ]
        },
        {
          "name": "stderr",
          "output_type": "stream",
          "text": [
            "C:\\Users\\K VIVEK\\AppData\\Local\\Programs\\Python\\Python312\\Lib\\site-packages\\numpy\\_core\\fromnumeric.py:86: RuntimeWarning: overflow encountered in reduce\n",
            "  return ufunc.reduce(obj, axis, dtype, out, **passkwargs)\n",
            "C:\\Users\\K VIVEK\\Desktop\\TUB notes and assignments\\ML\\Keerthiveettil-Vivek\\Assignments\\Assignment06-Linear Classification\\Assignment06_2024\\TUBS_1120019\\classifiers\\linear_svm.py:110: RuntimeWarning: overflow encountered in multiply\n",
            "  loss += reg * np.sum(W * W)  # Add regularization\n"
          ]
        },
        {
          "name": "stdout",
          "output_type": "stream",
          "text": [
            "(48000, 785) (785, 10)\n",
            "(12000, 785) (785, 10)\n",
            "learning rate =1.00e-01, regularization_strengths=5e+01 ==>  train accuracy=0.004, val accuracy=0.004\n",
            "(48000, 785) (785, 10)\n",
            "(12000, 785) (785, 10)\n",
            "learning rate =9.00e-01, regularization_strengths=1e-05 ==>  train accuracy=0.877, val accuracy=0.875\n",
            "(48000, 785) (785, 10)\n",
            "(12000, 785) (785, 10)\n",
            "learning rate =9.00e-01, regularization_strengths=1e-01 ==>  train accuracy=0.348, val accuracy=0.350\n",
            "(48000, 785) (785, 10)\n",
            "(12000, 785) (785, 10)\n",
            "learning rate =9.00e-01, regularization_strengths=0e+00 ==>  train accuracy=0.884, val accuracy=0.883\n"
          ]
        },
        {
          "name": "stderr",
          "output_type": "stream",
          "text": [
            "C:\\Users\\K VIVEK\\Desktop\\TUB notes and assignments\\ML\\Keerthiveettil-Vivek\\Assignments\\Assignment06-Linear Classification\\Assignment06_2024\\TUBS_1120019\\classifiers\\linear_svm.py:110: RuntimeWarning: overflow encountered in scalar multiply\n",
            "  loss += reg * np.sum(W * W)  # Add regularization\n",
            "C:\\Users\\K VIVEK\\Desktop\\TUB notes and assignments\\ML\\Keerthiveettil-Vivek\\Assignments\\Assignment06-Linear Classification\\Assignment06_2024\\TUBS_1120019\\classifiers\\linear_svm.py:101: RuntimeWarning: overflow encountered in matmul\n",
            "  scores = X @ W  # Shape (N, K)\n",
            "C:\\Users\\K VIVEK\\Desktop\\TUB notes and assignments\\ML\\Keerthiveettil-Vivek\\Assignments\\Assignment06-Linear Classification\\Assignment06_2024\\TUBS_1120019\\classifiers\\linear_svm.py:105: RuntimeWarning: overflow encountered in subtract\n",
            "  margins = np.maximum(0, scores - correct_class_scores + delta)  # Shape (N, K)\n",
            "C:\\Users\\K VIVEK\\Desktop\\TUB notes and assignments\\ML\\Keerthiveettil-Vivek\\Assignments\\Assignment06-Linear Classification\\Assignment06_2024\\TUBS_1120019\\classifiers\\linear_svm.py:105: RuntimeWarning: invalid value encountered in subtract\n",
            "  margins = np.maximum(0, scores - correct_class_scores + delta)  # Shape (N, K)\n",
            "C:\\Users\\K VIVEK\\Desktop\\TUB notes and assignments\\ML\\Keerthiveettil-Vivek\\Assignments\\Assignment06-Linear Classification\\Assignment06_2024\\TUBS_1120019\\classifiers\\linear_svm.py:101: RuntimeWarning: invalid value encountered in matmul\n",
            "  scores = X @ W  # Shape (N, K)\n",
            "C:\\Users\\K VIVEK\\Desktop\\TUB notes and assignments\\ML\\Keerthiveettil-Vivek\\Assignments\\Assignment06-Linear Classification\\Assignment06_2024\\TUBS_1120019\\classifiers\\linear_svm.py:134: RuntimeWarning: overflow encountered in multiply\n",
            "  dW += 2 * reg * W  # Add regularization gradient\n",
            "C:\\Users\\K VIVEK\\Desktop\\TUB notes and assignments\\ML\\Keerthiveettil-Vivek\\Assignments\\Assignment06-Linear Classification\\Assignment06_2024\\TUBS_1120019\\classifiers\\linear_classifier.py:77: RuntimeWarning: invalid value encountered in subtract\n",
            "  self.W -= learning_rate * grad\n"
          ]
        },
        {
          "name": "stdout",
          "output_type": "stream",
          "text": [
            "(48000, 785) (785, 10)\n",
            "(12000, 785) (785, 10)\n",
            "learning rate =9.00e-01, regularization_strengths=5e+01 ==>  train accuracy=0.098, val accuracy=0.100\n",
            "\n",
            "Best validation accuracy: 0.898333\n",
            "learning_rate = 1e-06,      regularization_strengths=1e-01\n"
          ]
        }
      ],
      "source": [
        "# Use the validation set to tune hyperparameters (regularization strength and\n",
        "# learning rate). You should experiment with different ranges for the learning\n",
        "# rates and regularization strengths; if you are careful you should be able to\n",
        "# get a classification accuracy of more than 90% on the validation set.\n",
        "\n",
        "# Note: you may see runtime/overflow warnings during hyper-parameter search.\n",
        "# This may be caused by extreme values, and is not a bug.\n",
        "\n",
        "# results is dictionary mapping tuples of the form\n",
        "# (learning_rate, regularization_strength) to tuples of the form\n",
        "# (training_accuracy, validation_accuracy). The accuracy is simply the fraction\n",
        "# of data points that are correctly classified.\n",
        "results = {}\n",
        "best_val = -1   # The highest validation accuracy that we have seen so far.\n",
        "best_svm = None # The LinearSVM object that achieved the highest validation rate.\n",
        "\n",
        "################################################################################\n",
        "# TODO:                                                                        #\n",
        "# Write code that chooses the best hyperparameters by tuning on the validation #\n",
        "# set. For each combination of hyperparameters, train a linear SVM on the      #\n",
        "# training set, compute its accuracy on the training and validation sets, and  #\n",
        "# store these numbers in the results dictionary. In addition, store the best   #\n",
        "# validation accuracy in best_val and the LinearSVM object that achieves this  #\n",
        "# accuracy in best_svm. Also store best parameters in a list called best_setting#\n",
        "# best_setting = [best_learning_rate, best_regularization_strength]            #\n",
        "#                                                                              #\n",
        "# Hint: You should use a small value for num_iters as you develop your         #\n",
        "# validation code so that the SVMs don't take much time to train;once you are  #\n",
        "# confident that your validation code works, you should rerun the validation   #\n",
        "# code with a larger value for num_iters.                                      #\n",
        "################################################################################\n",
        "\n",
        "# Provided as a reference. You may or may not want to change these hyperparameters\n",
        "learning_rates = [1e-6,1e-1,9e-1]\n",
        "regularization_strengths = [1e-5,1e-1,0,5e1]\n",
        "num_iters = 200\n",
        "\n",
        "for lr in learning_rates:\n",
        "    for reg in regularization_strengths:\n",
        "        # *****START OF YOUR CODE (DO NOT DELETE/MODIFY THIS LINE)*****\n",
        "\n",
        "        svm = LinearSVM()\n",
        "        loss_history = svm.train(\n",
        "            X_train_with_biasTerm, y_train,\n",
        "            learning_rate=lr,\n",
        "            reg=reg,\n",
        "            num_iters=num_iters,\n",
        "            verbose=False\n",
        "        )\n",
        "\n",
        "        # Compute training and validation accuracies\n",
        "        y_train_pred = svm.predict(X_train_with_biasTerm)\n",
        "        y_val_pred = svm.predict(X_val_with_biasTerm)\n",
        "        training_accuracy = np.mean(y_train_pred == y_train)\n",
        "        validation_accuracy = np.mean(y_val_pred == y_val)\n",
        "\n",
        "        # Store results in the dictionary\n",
        "        results[(lr, reg)] = (training_accuracy, validation_accuracy)\n",
        "\n",
        "        # Update the best parameters if validation accuracy improves\n",
        "        if validation_accuracy > best_val:\n",
        "            best_val = validation_accuracy\n",
        "            best_svm = svm\n",
        "            best_setting = [lr, reg]\n",
        "\n",
        "        # *****END OF YOUR CODE (DO NOT DELETE/MODIFY THIS LINE)*****\n",
        "\n",
        "        print(\"learning rate =%2.2e, regularization_strengths=%2.0e ==>  train accuracy=%3.3f, val accuracy=%3.3f\"%(lr,reg,training_accuracy,validation_accuracy))\n",
        "\n",
        "print('\\nBest validation accuracy: %f' % best_val)\n",
        "print(f\"learning_rate = {best_setting[0]},\\\n",
        "      regularization_strengths={best_setting[1]:.0e}\")"
      ]
    },
    {
      "cell_type": "markdown",
      "metadata": {
        "id": "afiz4vTBTubx"
      },
      "source": [
        "## Report the results on test set"
      ]
    },
    {
      "cell_type": "code",
      "execution_count": null,
      "metadata": {
        "id": "uWXzv0R9Tubx",
        "outputId": "0d608d84-7f37-41ac-a5b2-ecb5991f19bb"
      },
      "outputs": [
        {
          "name": "stdout",
          "output_type": "stream",
          "text": [
            "(10000, 785) (785, 10)\n",
            "linear SVM on raw pixels final test set accuracy: 0.904700\n"
          ]
        }
      ],
      "source": [
        "# Evaluate the best svm on test set\n",
        "y_test_pred = best_svm.predict(X_test_with_biasTerm)\n",
        "test_accuracy = np.mean(y_test == y_test_pred)\n",
        "print('linear SVM on raw pixels final test set accuracy: %f' % test_accuracy)"
      ]
    },
    {
      "cell_type": "markdown",
      "metadata": {
        "id": "VH34chJ7Tubx"
      },
      "source": [
        "without any preprocessing and with  200 iterations, we achieved more than 90%  test set accuracy  \n",
        "without any preprocessing and with 5000 iterations, we can achieve more than 92%  test set accuracy   \n",
        "\n",
        "\n",
        "this is close to the [highest reported test set accuracy using __linear classifier with deskewing__](http://yann.lecun.com/exdb/mnist/)\n",
        "\n",
        "**However:**\n",
        "SOTA is more than 99.5%\n",
        "We will learn about those approaches later."
      ]
    },
    {
      "cell_type": "markdown",
      "metadata": {
        "id": "Bluqcz_4Tubx"
      },
      "source": [
        "## Visualizing and interpreting the outputs"
      ]
    },
    {
      "cell_type": "markdown",
      "metadata": {
        "id": "5zV_xILVTubx"
      },
      "source": [
        "### Visualizing the weights"
      ]
    },
    {
      "cell_type": "code",
      "execution_count": null,
      "metadata": {
        "id": "N16CtoHdTubx",
        "outputId": "e10f6cf9-9be2-4f02-a488-ab7fa5d54863"
      },
      "outputs": [
        {
          "data": {
            "image/png": "[encoded data removed]",
            "text/plain": [
              "<Figure size 1000x400 with 10 Axes>"
            ]
          },
          "metadata": {},
          "output_type": "display_data"
        }
      ],
      "source": [
        "# Visualize the learned weights for each class.\n",
        "# Depending on your choice of learning rate and regularization strength, these may\n",
        "# or may not be nice to look at.\n",
        "plt.rcParams['figure.figsize'] = (10.0, 4.0) # set default size of plots\n",
        "\n",
        "w = best_svm.W[1:,:] # strip out the bias\n",
        "w = w.T.reshape(10,28, 28)\n",
        "for i in range(10):\n",
        "    plt.subplot(2, 5, i + 1)\n",
        "    w_min, w_max = np.min(w[ i, :, :]), np.max(w[ i, :, :])\n",
        "\n",
        "    # Rescale the weights to be between 0 and 255\n",
        "    wimg = 255.0 * (w[ i, :, :].squeeze() - w_min) / (w_max - w_min)\n",
        "    plt.imshow(wimg.astype('uint8'))\n",
        "    plt.axis('off')"
      ]
    },
    {
      "cell_type": "markdown",
      "metadata": {
        "id": "fL6axPBVTuby"
      },
      "source": [
        "**Inline Question** (2pnts)\n",
        "- How do you we interpret this figure? (What do you understand from subfigures? Maybe nothing!!)  \n",
        "$\\color{blue}{\\textit{Your Answer: The figure shows learned weights of the softmax classifier for each digit class, they are essentially the features the mode has learned during training}}$\n",
        "<font color='blue'>*Your Explanation*:we can observe that the subfigures corresponding to each digit appear to show distinct and recognizable patterns. For example, the subfigure for class \"1\" might look like a vertical line, while the subfigure for \"2\" may appear as a curved pattern, which matches the typical shape of the digit. The clarity and distinctness of these weight images suggest that the model has learned meaningful features that correspond to the characteristics of each digit,blurriness or similarity in images may indicate model has effectively not learned to distingish between classes</font>"
      ]
    },
    {
      "cell_type": "markdown",
      "metadata": {
        "id": "n0eoo18mTuby"
      },
      "source": [
        "### Visualizing wrong predictions\n",
        "Finally, let's have a look on some wrong predictions in test dataset"
      ]
    },
    {
      "cell_type": "code",
      "execution_count": null,
      "metadata": {
        "id": "5kCKnJXATuby",
        "outputId": "0dbf09cd-7d22-4db4-faa7-ac916379663d"
      },
      "outputs": [
        {
          "data": {
            "image/png": "[encoded data removed]",
            "text/plain": [
              "<Figure size 1000x800 with 50 Axes>"
            ]
          },
          "metadata": {},
          "output_type": "display_data"
        }
      ],
      "source": [
        "fig = plt.figure(figsize=(10.0, 8.0))\n",
        "fig.suptitle('Some misclassified samples', fontsize=12)\n",
        "\n",
        "# Visualize some samples from the dataset.\n",
        "# We show a few random samples of test images from each class.\n",
        "X_test_28x28 = X_test.reshape(X_test.shape[0],28,28)\n",
        "samples_per_class = 5\n",
        "for k in range(K):\n",
        "    idxs_pred_k=np.flatnonzero(y_test_pred==k)\n",
        "    idxs_pred_k_wrong  = np.flatnonzero(y_test[idxs_pred_k]!=y_test_pred[idxs_pred_k])\n",
        "    idxs = np.random.choice(idxs_pred_k_wrong, samples_per_class, replace=False)\n",
        "    X_test_misclassified_k = X_test_28x28[idxs_pred_k[idxs]]\n",
        "    y_test_misclassified_k = y_test[idxs_pred_k[idxs]]\n",
        "    y_test_pred_misclassified_k = y_test_pred[idxs_pred_k[idxs]]\n",
        "    for i, idx in enumerate(idxs):\n",
        "        plt_idx = (i * K)+k+1\n",
        "        plt.subplot(samples_per_class, num_classes, plt_idx)\n",
        "        plt.imshow(X_test_misclassified_k[i].astype('uint8'))\n",
        "        plt.axis('off')\n",
        "        if i == 0:\n",
        "            string_pred='pred:'+str(k)\n",
        "            plt.title(string_pred,color='blue')\n",
        "\n",
        "plt.show()"
      ]
    },
    {
      "cell_type": "markdown",
      "metadata": {
        "id": "HWIy5beZTuby"
      },
      "source": [
        "# Error Analysis"
      ]
    },
    {
      "cell_type": "markdown",
      "metadata": {
        "id": "S9o5LwBMTuby"
      },
      "source": [
        "## Confusion Matrix"
      ]
    },
    {
      "cell_type": "markdown",
      "metadata": {
        "id": "EK0kK1HGTuby"
      },
      "source": [
        "Analyzing the confusion matrix often gives you insights into ways to improve your classifier."
      ]
    },
    {
      "cell_type": "code",
      "execution_count": null,
      "metadata": {
        "id": "dR8SYBdoTuby",
        "outputId": "ccbb63ba-06c5-4a04-ab1e-4a7d2f78ab1b"
      },
      "outputs": [
        {
          "data": {
            "image/png": "[encoded data removed]",
            "text/plain": [
              "<Figure size 1000x800 with 2 Axes>"
            ]
          },
          "metadata": {},
          "output_type": "display_data"
        }
      ],
      "source": [
        "from sklearn.metrics import confusion_matrix\n",
        "import seaborn as sns\n",
        "\n",
        "confusion_matrix(y_test,y_test_pred)\n",
        "\n",
        "fig = plt.figure(figsize=(10.0, 8.0))\n",
        "ax = sns.heatmap(confusion_matrix(y_test,y_test_pred), annot=True, fmt=\"d\", vmax=100, square=True)"
      ]
    },
    {
      "cell_type": "markdown",
      "metadata": {
        "id": "GYKUMdosTubz"
      },
      "source": [
        "**Inline Question** (3pnts)\n",
        "  \n",
        "- Which number is the best separated class?  \n",
        "$\\color{blue}{\\textit{Your Answer: Class 1 is the best-separated class.}}$\n",
        "<font color='blue'>*Your Explanation (Discussion and computation)*: The diagonal value for class 1 is 1103, and there are very few off-diagonal values (indicating misclassifications). This shows that class 1 is accurately classified in most cases, with minimal confusion with other classes.</font>\n",
        "\n",
        "- Which number is the worst separated class?  \n",
        "$\\color{blue}{\\textit{Your Answer: Class 8 is the worst-separated class.}}$  \n",
        "<font color='blue'>*Your Explanation (Discussion and computation)*: Class 8 has the lowest diagonal value (828) relative to the other classes, and it shows significant confusion with classes 5 and 6, as seen from higher off-diagonal values (e.g., 50 misclassified as class 5 and 50 misclassified as class 6).</font>\n",
        "\n",
        "- Which pairs pf classes are harder to be separated? write 2 of the pairs  \n",
        "$\\color{blue}{\\textit{Your Answer: Two pairs of classes that are harder to separate are:\n",
        "Classes 4 and 9\n",
        "Classes 8 and 5}}$  \n",
        "<font color='blue'>*Your Explanation (Discussion and computation)*:Between classes 4 and 9: There are 66 misclassifications where class 4 is classified as class 9, and 47 misclassifications where class 9 is classified as class 4. This indicates significant confusion between these two classes.\n",
        "Between classes 8 and 5: There are 50 misclassifications where class 8 is classified as class 5. This shows difficulty in distinguishing between these two classes as well.</font>"
      ]
    },
    {
      "cell_type": "markdown",
      "metadata": {
        "id": "sy7sr6PxTubz"
      },
      "source": [
        "## best_k (10pnts)"
      ]
    },
    {
      "cell_type": "markdown",
      "metadata": {
        "id": "m_eR8CkfTubz"
      },
      "source": [
        "For some applications like search engines and recommender systems, we are interested not only in the best element, but also in the  first k items. So, the first elements of the search result are most relevant for the user. Here, evaluating just how relevant/accurate the top element is, could not be a good metric for the problem.\n",
        "\n",
        "In some applications top_k is not a good solution, but we will implement it to better understand the idea behind top_k.\n"
      ]
    },
    {
      "cell_type": "code",
      "execution_count": null,
      "metadata": {
        "id": "FyLtOsD6Tubz",
        "outputId": "63ed70ac-c8cc-456f-e1bf-04951b51b5e9"
      },
      "outputs": [
        {
          "name": "stdout",
          "output_type": "stream",
          "text": [
            "test accuracy:  0.9814\n"
          ]
        }
      ],
      "source": [
        "# Write the LinearSVM.predict_top_k function and\n",
        "# evaluate the performance of the best classifier on test set using top_k\n",
        "# assign the outputs to 2 variables 'test_scores_top_k', and 'test_top_k'\n",
        "classifier = best_svm\n",
        "test_scores_top_k, test_top_k = classifier.predict_top_k(X_test_with_biasTerm,k=3)\n",
        "print('test accuracy: ',np.mean([(y_test[i] in test_top_k[i]) for i in range(len(y_test))]))"
      ]
    },
    {
      "cell_type": "markdown",
      "metadata": {
        "id": "AKDhDh_0Tubz"
      },
      "source": [
        "# Feature manupulation (40pnts)\n",
        "\n",
        "Select and solve one of the following problems:\n",
        "- Shuffling the features\n",
        "- Feature selection\n",
        "- Normalizing the features"
      ]
    },
    {
      "cell_type": "markdown",
      "metadata": {
        "id": "MgkKRUZhTubz"
      },
      "source": [
        "## Shuffling the features\n",
        "\n",
        "What happens if we change the order of the features (columns of X before adding bias_term), randomly.  \n",
        "Unless we keep the shuffling indices and use them for rearranging the pixels, we will have problem in visualization of the samples  \n",
        "But, what about classification? Does shuffling the features affect the results or not?  \n",
        "Feel free to add some cells here to ivestigate this effect.  \n",
        "You can also copy this notebook, and ivestigate shuffling the features, in a separate notebook.  "
      ]
    },
    {
      "cell_type": "markdown",
      "metadata": {
        "id": "hS_U2QgXTubz"
      },
      "source": [
        "## Feature selection\n",
        "\n",
        "As a very simple feature selection strategy, one idea could be to ignore some first/last rows and column of the all samples and analyze the results.  \n",
        "So, your task is to remove `n_ignores_rows` and `n_ignored_cols` from all samples and compute the classiication accuracy.  \n",
        "`n_rows=1` means that you ignore first and last rows of the samples\n",
        "\n",
        "for examples you may report the decrease of the accuracy as:  \n",
        "\n",
        "n_ignored_rows =0, n_ignored_cols=0 ==> test accuracy = 0.90 <-- Baseline  \n",
        "n_ignored_rows =0, n_ignored_cols=1 ==> test accuracy = 0.89  \n",
        "n_ignored_rows =1, n_ignored_cols=0 ==> test accuracy = 0.90  \n",
        "n_ignored_rows =1, n_ignored_cols=1 ==> test accuracy = 0.88  \n",
        "...  \n"
      ]
    },
    {
      "cell_type": "markdown",
      "metadata": {
        "id": "0uPrgmY3Tub0"
      },
      "source": [
        "## Normalizing the features\n",
        "What happens if we normalize the inputs?\n",
        "\n",
        "what about: (zero-centering)?\n",
        "- subtract the mean image\n",
        "    - first: compute the mean image based on the training data\n",
        "    - second: subtract the mean image from train and test data\n",
        "    \n",
        "what if we also do scaling?    \n",
        "- divide by standard deviation image\n",
        "    - first: compute the std image based on the training data\n",
        "    - second: divide the zero-centered train and zero-centered test data by std image"
      ]
    },
    {
      "cell_type": "markdown",
      "metadata": {
        "id": "_wr0aM4sTub0"
      },
      "source": [
        "By combining zero-centering and scaling, the data becomes standardized, which:\n",
        "Ensures each feature (pixel) has mean 0 and variance 1.\n",
        "Improves the numerical stability of optimization, especially for neural networks or linear classifiers.\n",
        "Effect on accuracy:\n",
        "Training Efficiency: Normalization accelerates convergence during training by eliminating bias introduced by feature scales.\n",
        "Improved Generalization: Models trained on normalized inputs often perform better on unseen data.\n",
        "Better Stability: Prevents exploding/vanishing gradients in neural networks.\n",
        "While normalization usually improves accuracy, the extent of the improvement depends on the model and dataset"
      ]
    },
    {
      "cell_type": "code",
      "execution_count": null,
      "metadata": {
        "id": "TnlgKb2VTub0",
        "outputId": "bbbeb717-56c1-431f-d3e8-3dda86973671"
      },
      "outputs": [
        {
          "name": "stdout",
          "output_type": "stream",
          "text": [
            "iteration     0/  200: loss 9.000207\n",
            "iteration   100/  200: loss 0.270913\n",
            "(48000, 785) (785, 10)\n",
            "Training accuracy: 0.9111875\n",
            "(12000, 785) (785, 10)\n",
            "Validation accuracy: 0.899583\n",
            "(10000, 785) (785, 10)\n",
            "Test accuracy: 0.905800\n"
          ]
        }
      ],
      "source": [
        "epsilon = 1e-8  # Small value to prevent division by zero\n",
        "\n",
        "# Step 1: Zero-center the data\n",
        "mean_image = np.mean(X_train, axis=0)\n",
        "X_train_zero_centered = X_train - mean_image\n",
        "X_val_zero_centered = X_val - mean_image\n",
        "X_test_zero_centered = X_test - mean_image\n",
        "\n",
        "# Step 2: Scale the data\n",
        "std_image = np.std(X_train, axis=0)\n",
        "std_image = np.where(std_image == 0, epsilon, std_image)  # Replace zeros with epsilon\n",
        "X_train_normalized = X_train_zero_centered / std_image\n",
        "X_val_normalized = X_val_zero_centered / std_image\n",
        "X_test_normalized = X_test_zero_centered / std_image\n",
        "\n",
        "# Step 3: Add bias term\n",
        "X_train_normalized_with_biasTerm = np.hstack((np.ones((N_train, 1)), X_train_normalized))\n",
        "X_val_normalized_with_biasTerm = np.hstack((np.ones((N_valid, 1)), X_val_normalized))\n",
        "X_test_normalized_with_biasTerm = np.hstack((np.ones((N_test, 1)), X_test_normalized))\n",
        "\n",
        "# Step 4: Train the classifier and evaluate\n",
        "classifier = LinearSVM()  # Ensure you have a defined LinearClassifier class with train and predict methods\n",
        "\n",
        "# Train the classifier on the training data\n",
        "classifier.train(X_train_normalized_with_biasTerm, y_train, learning_rate=0.1, reg=1e-05, num_iters=200)\n",
        "\n",
        "# Step 5: Evaluate accuracy\n",
        "y_train_pred = classifier.predict(X_train_normalized_with_biasTerm)\n",
        "print('Training accuracy:', np.mean(y_train == y_train_pred))\n",
        "\n",
        "y_val_pred = classifier.predict(X_val_normalized_with_biasTerm)\n",
        "print('Validation accuracy: %f' % np.mean(y_val == y_val_pred))\n",
        "\n",
        "y_test_pred = classifier.predict(X_test_normalized_with_biasTerm)\n",
        "print('Test accuracy: %f' % np.mean(y_test == y_test_pred))\n"
      ]
    },
    {
      "cell_type": "code",
      "execution_count": null,
      "metadata": {
        "id": "bV4NfMtdTub0"
      },
      "outputs": [],
      "source": [
        "##Normalising"
      ]
    },
    {
      "cell_type": "markdown",
      "metadata": {
        "id": "5j8-6sRnTub0"
      },
      "source": [
        "# Bonus"
      ]
    },
    {
      "cell_type": "markdown",
      "metadata": {
        "id": "5BZ6HM19Tub0"
      },
      "source": [
        "##  Visualizing W of all classes during training (20 pnts)\n",
        "writing the code to generate a video (like a timelapse) to visualize W of all classes during training"
      ]
    },
    {
      "cell_type": "code",
      "execution_count": null,
      "metadata": {
        "id": "df0dqhI8Tub0"
      },
      "outputs": [],
      "source": []
    },
    {
      "cell_type": "code",
      "execution_count": null,
      "metadata": {
        "id": "yZ4GZ_3fTub0"
      },
      "outputs": [],
      "source": []
    }
  ],
  "metadata": {
    "colab": {
      "name": "linear_classification.ipynb",
      "provenance": [],
      "include_colab_link": true
    },
    "kernelspec": {
      "display_name": "Python 3 (ipykernel)",
      "language": "python",
      "name": "python3"
    },
    "language_info": {
      "codemirror_mode": {
        "name": "ipython",
        "version": 3
      },
      "file_extension": ".py",
      "mimetype": "text/x-python",
      "name": "python",
      "nbconvert_exporter": "python",
      "pygments_lexer": "ipython3",
      "version": "3.12.0"
    },
    "toc-autonumbering": true
  },
  "nbformat": 4,
  "nbformat_minor": 0
}